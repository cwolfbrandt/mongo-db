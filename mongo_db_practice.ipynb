{
 "cells": [
  {
   "cell_type": "markdown",
   "metadata": {},
   "source": [
    "# MongoDB Practice Assignment"
   ]
  },
  {
   "cell_type": "markdown",
   "metadata": {},
   "source": [
    "In your terminal, navigate to the data directory in the web-scraping repository and load in the data with mongoimport --db clicks --collection log < click_log.json\n",
    "\n",
    "In the Mongo shell, run show dbs; to make sure the clicks database has been created. Run use clicks; to use the clicks database for your queries."
   ]
  },
  {
   "cell_type": "code",
   "execution_count": null,
   "metadata": {},
   "outputs": [],
   "source": [
    "sudo docker exec -it mongoserver mongo"
   ]
  },
  {
   "cell_type": "markdown",
   "metadata": {},
   "source": [
    "1. Inspect the log collection in your database. How many entries are in the log collection?\n",
    "\n",
    "If you are not sure about what command to use, you can access the help section by:\n",
    "\n",
    "help\n",
    "db.help()\n",
    "db.<collection_name>.help()\n",
    "Mongo also has tab complete, so you can tab complete some of your commands for convenience."
   ]
  },
  {
   "cell_type": "code",
   "execution_count": null,
   "metadata": {},
   "outputs": [],
   "source": [
    "db.log.count()"
   ]
  },
  {
   "cell_type": "markdown",
   "metadata": {},
   "source": [
    "2. Print out all of the clicks you have stored using .find(). Now using .limit(), return 10 entries. You can also use .findOne() to quickly view the first row and examine the available columns.\n",
    "\n"
   ]
  },
  {
   "cell_type": "code",
   "execution_count": null,
   "metadata": {},
   "outputs": [],
   "source": [
    "db.log.find()\n",
    "db.log.find().limit(10)"
   ]
  },
  {
   "cell_type": "markdown",
   "metadata": {},
   "source": [
    "Use .find() to find all the clicks where cy (city) is San Francisco. How many are there?"
   ]
  },
  {
   "cell_type": "code",
   "execution_count": null,
   "metadata": {},
   "outputs": [],
   "source": [
    "db.log.find({'cy':'San Francisco'})\n",
    "db.log.find({'cy':'San Francisco'}).count()"
   ]
  },
  {
   "cell_type": "markdown",
   "metadata": {},
   "source": [
    "3. Use .distinct() to find all the distinct types of web browsers (under the field a) people use to visit the sites. Count the the number of distinct web browsers (use .length on your distinct list)."
   ]
  },
  {
   "cell_type": "code",
   "execution_count": null,
   "metadata": {},
   "outputs": [],
   "source": [
    "db.log.distinct('a').length"
   ]
  },
  {
   "cell_type": "markdown",
   "metadata": {},
   "source": [
    "4. Select and count the records where the users have visited a website either from a Mozilla or an Opera web browser. Search the a field using regex in mongo."
   ]
  },
  {
   "cell_type": "code",
   "execution_count": null,
   "metadata": {},
   "outputs": [],
   "source": [
    "db.log.find({'a': /Mozilla/}, {'a': /Opera/}).length()"
   ]
  },
  {
   "cell_type": "markdown",
   "metadata": {},
   "source": [
    "5. Find the type of the t (timestamp) field. You can access the type of a field in an entry by using typeof db.log.findOne({'t': {$exists: true}}).t. The field should be a number now."
   ]
  },
  {
   "cell_type": "code",
   "execution_count": null,
   "metadata": {},
   "outputs": [],
   "source": [
    "typeof db.log.findOne({'t': {$exists: true}}).t"
   ]
  },
  {
   "cell_type": "markdown",
   "metadata": {},
   "source": [
    "6. Convert the timestamp field to the date type. You will need to multiply the number by 1000 and then make it a Date object (you can create a Date object by using new Date()). You can loop over each record using .forEach() and then .update() the record (using the _id field) with the created Date object. When you're done, confirm that the data type has been converted. Below is some template code.\n",
    "\n",
    "db.log.find({'t': {$exists: true}}).forEach(function(entry) {\n",
    "   // your code to update an entry by _id and set the t field as a new \n",
    "   //  Date() object\n",
    "})"
   ]
  },
  {
   "cell_type": "code",
   "execution_count": null,
   "metadata": {},
   "outputs": [],
   "source": [
    "db.log.find({'t': {$exists: true}}).forEach(function(entry) {\n",
    "    entry = entry * 1000\n",
    "    entry = new Date(entry)\n",
    "    db.log.update({'t' : {$exists: true}}, {$set: {'t' : entry}})"
   ]
  },
  {
   "cell_type": "markdown",
   "metadata": {},
   "source": [
    "7. Sort the clicks by the timestamp and find when the first click occurred. How many clicks occurred in the first hour? To answer this, assign the earliest timestamp and timestamp at the one-hour bound to separate variables before writing the query."
   ]
  },
  {
   "cell_type": "code",
   "execution_count": null,
   "metadata": {},
   "outputs": [],
   "source": [
    "db.log.find({'t': {$exists: true}}).sort({t:1}).limit(1)\n"
   ]
  },
  {
   "cell_type": "markdown",
   "metadata": {},
   "source": [
    "8. Using Mongo's aggregation functionality, can you find what the most popular link clicked is? You will need to use $group, $sum, and $sort."
   ]
  },
  {
   "cell_type": "code",
   "execution_count": null,
   "metadata": {},
   "outputs": [],
   "source": []
  },
  {
   "cell_type": "markdown",
   "metadata": {},
   "source": [
    "Extra Credit\n",
    "MongoDB actually has some geospatial facilities (don't worry, PostGreSQL has even better ones). Using the geoindices and Mongo queries, find the following:\n",
    "\n",
    "All clicks within 50 miles of San Francisco\n",
    "All clicks that came from New England\n",
    "CartoDB\n",
    "CartoDB happens to be one of my favorite tools for geospatial analysis (with built in PostGIS querying). Map the clicks across the globe. Visualize clicks over time with a torque map."
   ]
  }
 ],
 "metadata": {
  "kernelspec": {
   "display_name": "Python 3",
   "language": "python",
   "name": "python3"
  },
  "language_info": {
   "codemirror_mode": {
    "name": "ipython",
    "version": 3
   },
   "file_extension": ".py",
   "mimetype": "text/x-python",
   "name": "python",
   "nbconvert_exporter": "python",
   "pygments_lexer": "ipython3",
   "version": "3.7.3"
  }
 },
 "nbformat": 4,
 "nbformat_minor": 2
}
